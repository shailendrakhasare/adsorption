{
 "cells": [
  {
   "cell_type": "code",
   "execution_count": 1,
   "metadata": {
    "ExecuteTime": {
     "end_time": "2020-09-29T03:37:51.300321Z",
     "start_time": "2020-09-29T03:37:48.320573Z"
    }
   },
   "outputs": [],
   "source": [
    "%matplotlib inline\n",
    "import matplotlib.pyplot as plt\n",
    "\n",
    "from sympy import (Symbol, Function, init_printing, log, \n",
    "                   exp, diff, simplify, Eq, Rational,\n",
    "                   latex, factor, plot_implicit)\n",
    "from sympy.solvers import solve\n",
    "\n",
    "from IPython.display import Math\n",
    "\n",
    "init_printing(use_latex='mathjax')"
   ]
  },
  {
   "cell_type": "markdown",
   "metadata": {
    "ExecuteTime": {
     "end_time": "2020-09-28T04:56:35.559523Z",
     "start_time": "2020-09-28T04:56:35.108824Z"
    }
   },
   "source": [
    "### Notations\n",
    "* $S$ : Dimentionless Thermodynamic Entropy\n",
    "* $N$ : Number of particles\n",
    "* $G$ : Number of cells\n",
    "* $X$ : Number of adsorped particles\n",
    "* $Y$ : Number of particles per cell i.e. $\\frac{N}{G}$"
   ]
  },
  {
   "cell_type": "markdown",
   "metadata": {},
   "source": [
    "### Thermodynamic Entropy"
   ]
  },
  {
   "cell_type": "code",
   "execution_count": 2,
   "metadata": {
    "ExecuteTime": {
     "end_time": "2020-09-29T03:37:51.407689Z",
     "start_time": "2020-09-29T03:37:51.300321Z"
    }
   },
   "outputs": [
    {
     "data": {
      "text/latex": [
       "$\\displaystyle S = N \\log{\\left(N \\right)} - \\left(N + A{\\left(N \\right)}\\right) \\log{\\left(N + A{\\left(N \\right)} \\right)} + A{\\left(N \\right)} \\log{\\left(A{\\left(N \\right)} \\right)}$"
      ],
      "text/plain": [
       "S = N⋅log(N) - (N + A(N))⋅log(N + A(N)) + A(N)⋅log(A(N))"
      ]
     },
     "execution_count": 2,
     "metadata": {},
     "output_type": "execute_result"
    }
   ],
   "source": [
    "# Define thermodynamic entropy S.\n",
    "N, G = Symbol('N'), Symbol('G')\n",
    "X, Y = Symbol('X'), Symbol('Y')\n",
    "An = Function('A')(N)\n",
    "\n",
    "Fn = An + N\n",
    "S  = -(Fn * log(Fn)) + (An * log(An)) + (N * log(N))\n",
    "Eq(Symbol('S'), S)"
   ]
  },
  {
   "cell_type": "markdown",
   "metadata": {},
   "source": [
    "Differnetiate entropy $S$ w.r.t. number of particles $N$."
   ]
  },
  {
   "cell_type": "code",
   "execution_count": 3,
   "metadata": {
    "ExecuteTime": {
     "end_time": "2020-09-29T03:37:51.694691Z",
     "start_time": "2020-09-29T03:37:51.430689Z"
    }
   },
   "outputs": [
    {
     "data": {
      "text/latex": [
       "$\\displaystyle \\frac{\\partial S}{\\partial N} = - \\left(\\frac{d}{d N} A{\\left(N \\right)} + 1\\right) \\log{\\left(N + A{\\left(N \\right)} \\right)} + \\log{\\left(N \\right)} + \\log{\\left(A{\\left(N \\right)} \\right)} \\frac{d}{d N} A{\\left(N \\right)}$"
      ],
      "text/plain": [
       "\\partial S     ⎛d           ⎞                                    d       \n",
       "────────── = - ⎜──(A(N)) + 1⎟⋅log(N + A(N)) + log(N) + log(A(N))⋅──(A(N))\n",
       "\\partial N     ⎝dN          ⎠                                    dN      "
      ]
     },
     "execution_count": 3,
     "metadata": {},
     "output_type": "execute_result"
    }
   ],
   "source": [
    "# Differnetiate entropy S w.r.t number of particles N.\n",
    "Sn = simplify(diff(S, N))\n",
    "Eq(Symbol('\\partial S') / Symbol('\\partial N'), Sn)"
   ]
  },
  {
   "cell_type": "markdown",
   "metadata": {},
   "source": [
    "### Adsorption"
   ]
  },
  {
   "cell_type": "markdown",
   "metadata": {
    "ExecuteTime": {
     "end_time": "2020-09-28T04:58:22.622063Z",
     "start_time": "2020-09-28T04:58:22.551060Z"
    }
   },
   "source": [
    "Put $ \\frac{\\partial S}{\\partial N} = \\log X $ and solve for $X$, where $X$ represents adsoption for particles."
   ]
  },
  {
   "cell_type": "code",
   "execution_count": 4,
   "metadata": {
    "ExecuteTime": {
     "end_time": "2020-09-29T03:37:53.232923Z",
     "start_time": "2020-09-29T03:37:51.699692Z"
    }
   },
   "outputs": [
    {
     "data": {
      "text/latex": [
       "$\\displaystyle X = \\frac{N e^{- \\left(\\log{\\left(N + A{\\left(N \\right)} \\right)} - \\log{\\left(A{\\left(N \\right)} \\right)}\\right) \\frac{d}{d N} A{\\left(N \\right)}}}{N + A{\\left(N \\right)}}$"
      ],
      "text/plain": [
       "                                    d       \n",
       "       -(log(N + A(N)) - log(A(N)))⋅──(A(N))\n",
       "                                    dN      \n",
       "    N⋅ℯ                                     \n",
       "X = ────────────────────────────────────────\n",
       "                    N + A(N)                "
      ]
     },
     "execution_count": 4,
     "metadata": {},
     "output_type": "execute_result"
    }
   ],
   "source": [
    "# Solve X in terms of G and Nf.\n",
    "Xn = simplify(solve(log(X) - Sn, X)[0])\n",
    "Eq(Symbol('X'), Xn)\n"
   ]
  },
  {
   "cell_type": "markdown",
   "metadata": {},
   "source": [
    "#### Additive Approach"
   ]
  },
  {
   "cell_type": "code",
   "execution_count": 5,
   "metadata": {
    "ExecuteTime": {
     "end_time": "2020-09-29T03:37:54.410246Z",
     "start_time": "2020-09-29T03:37:53.240925Z"
    }
   },
   "outputs": [
    {
     "data": {
      "text/latex": [
       "$\\displaystyle X_{a} = \\frac{\\left(1 + \\frac{N}{G \\left(1.0 - \\frac{0.6 N}{G}\\right)}\\right)^{0.6}}{\\frac{G \\left(1.0 - \\frac{0.6 N}{G}\\right)}{N} + 1}$"
      ],
      "text/plain": [
       "                          0.6\n",
       "     ⎛           N       ⎞   \n",
       "     ⎜1 + ───────────────⎟   \n",
       "     ⎜      ⎛      0.6⋅N⎞⎟   \n",
       "     ⎜    G⋅⎜1.0 - ─────⎟⎟   \n",
       "     ⎝      ⎝        G  ⎠⎠   \n",
       "Xₐ = ────────────────────────\n",
       "         ⎛      0.6⋅N⎞       \n",
       "       G⋅⎜1.0 - ─────⎟       \n",
       "         ⎝        G  ⎠       \n",
       "       ─────────────── + 1   \n",
       "              N              "
      ]
     },
     "execution_count": 5,
     "metadata": {},
     "output_type": "execute_result"
    }
   ],
   "source": [
    "w1, w2, a1, a2, b = Symbol('w_1'), Symbol('w_2'), Symbol('a_1'), Symbol('a_2'), Symbol('b') \n",
    "expra = G * (w1 * (1 + a1 * N/G) ** (b) + w2 * (1 + a2 * N/G) ** (b)) ** (1/b)\n",
    "expra = expra.subs({w1: 0.4, w2: 0.6, a1: 0, a2:-1, b:1})\n",
    "Xa = simplify(Xn.subs(An, expra))\n",
    "Eq(Symbol('X_a'), Xa)\n",
    "\n",
    "DAn = simplify(diff(expra, N))\n",
    "Xa = (1+N/expra)**(-DAn)*(1+expra/N)**(-1)\n",
    "Eq(Symbol('X_a'), Xa)"
   ]
  },
  {
   "cell_type": "markdown",
   "metadata": {},
   "source": [
    "Put $N = G*Y$ and simplify."
   ]
  },
  {
   "cell_type": "code",
   "execution_count": 6,
   "metadata": {
    "ExecuteTime": {
     "end_time": "2020-09-29T03:37:54.801249Z",
     "start_time": "2020-09-29T03:37:54.421254Z"
    }
   },
   "outputs": [
    {
     "data": {
      "text/latex": [
       "$\\displaystyle X_{a} = \\frac{Y \\left(\\frac{- 0.4 Y - 1.0}{0.6 Y - 1.0}\\right)^{0.6}}{0.4 Y + 1.0}$"
      ],
      "text/plain": [
       "                     0.6\n",
       "       ⎛-0.4⋅Y - 1.0⎞   \n",
       "     Y⋅⎜────────────⎟   \n",
       "       ⎝0.6⋅Y - 1.0 ⎠   \n",
       "Xₐ = ───────────────────\n",
       "         0.4⋅Y + 1.0    "
      ]
     },
     "execution_count": 6,
     "metadata": {},
     "output_type": "execute_result"
    }
   ],
   "source": [
    "Xa = simplify(Xa.subs(N, G*Y)).subs({G:1})\n",
    "Eq(Symbol('X_a'), Xa)"
   ]
  },
  {
   "cell_type": "markdown",
   "metadata": {},
   "source": [
    "Plot $Y$ against $X_a$."
   ]
  },
  {
   "cell_type": "code",
   "execution_count": 7,
   "metadata": {
    "ExecuteTime": {
     "end_time": "2020-09-29T03:38:18.772790Z",
     "start_time": "2020-09-29T03:37:54.813252Z"
    },
    "scrolled": true
   },
   "outputs": [
    {
     "data": {
      "image/png": "[encoded data removed]",
      "text/plain": [
       "<Figure size 432x288 with 1 Axes>"
      ]
     },
     "metadata": {
      "needs_background": "light"
     },
     "output_type": "display_data"
    },
    {
     "data": {
      "text/plain": [
       "<sympy.plotting.plot.Plot at 0x9819460>"
      ]
     },
     "execution_count": 7,
     "metadata": {},
     "output_type": "execute_result"
    }
   ],
   "source": [
    "plot_implicit(Eq(Symbol('X_a'), Xa), (Symbol('X_a'), 0.0, 3.0), (Y, 0.0, 2.0))"
   ]
  },
  {
   "cell_type": "markdown",
   "metadata": {},
   "source": [
    "#### Multiplicative Approach"
   ]
  },
  {
   "cell_type": "code",
   "execution_count": 8,
   "metadata": {
    "ExecuteTime": {
     "end_time": "2020-09-29T03:38:19.947804Z",
     "start_time": "2020-09-29T03:38:18.785787Z"
    }
   },
   "outputs": [
    {
     "data": {
      "text/latex": [
       "$\\displaystyle X_{m} = \\frac{\\left(1 + \\frac{N}{G \\left(1 - \\frac{N}{G}\\right)^{0.6}}\\right)^{\\frac{0.6}{\\left(\\frac{G - N}{G}\\right)^{0.4}}}}{\\frac{G \\left(1 - \\frac{N}{G}\\right)^{0.6}}{N} + 1}$"
      ],
      "text/plain": [
       "                                   -0.4\n",
       "                            ⎛G - N⎞    \n",
       "                        0.6⋅⎜─────⎟    \n",
       "                            ⎝  G  ⎠    \n",
       "     ⎛             -0.6⎞               \n",
       "     ⎜      ⎛    N⎞    ⎟               \n",
       "     ⎜    N⋅⎜1 - ─⎟    ⎟               \n",
       "     ⎜      ⎝    G⎠    ⎟               \n",
       "     ⎜1 + ─────────────⎟               \n",
       "     ⎝          G      ⎠               \n",
       "Xₘ = ──────────────────────────────────\n",
       "                       0.6             \n",
       "                ⎛    N⎞                \n",
       "              G⋅⎜1 - ─⎟                \n",
       "                ⎝    G⎠                \n",
       "              ──────────── + 1         \n",
       "                   N                   "
      ]
     },
     "execution_count": 8,
     "metadata": {},
     "output_type": "execute_result"
    }
   ],
   "source": [
    "w1, w2, a1, a2, b = Symbol('w_1'), Symbol('w_2'), Symbol('a_1'), Symbol('a_2'), Symbol('b') \n",
    "exprm = G* (1 + a1 * N/G )** (w1) * (1 + a2 * N/G )** (w2)\n",
    "exprm = exprm.subs({w1:0.4, w2:0.6, a1: 0, a2:-1, b:1})\n",
    "Xm = simplify(Xn.subs(An, exprm))\n",
    "Eq(Symbol('X_m'), Xm)\n",
    "\n",
    "DAm = simplify(diff(exprm, N))\n",
    "Xm = (1+N/exprm)**(-DAm)*(1+exprm/N)**(-1)\n",
    "Eq(Symbol('X_m'), Xm)"
   ]
  },
  {
   "cell_type": "markdown",
   "metadata": {},
   "source": [
    "Put $N = G*Y$ and simplify."
   ]
  },
  {
   "cell_type": "code",
   "execution_count": 9,
   "metadata": {
    "ExecuteTime": {
     "end_time": "2020-09-29T03:38:20.414811Z",
     "start_time": "2020-09-29T03:38:19.960811Z"
    }
   },
   "outputs": [
    {
     "data": {
      "text/latex": [
       "$\\displaystyle X_{m} = \\frac{Y \\left(\\frac{Y}{\\left(1 - Y\\right)^{0.6}} + 1\\right)^{\\frac{0.6}{\\left(1 - Y\\right)^{0.4}}}}{Y + \\left(1 - Y\\right)^{0.6}}$"
      ],
      "text/plain": [
       "                                     -0.4\n",
       "                          0.6⋅(1 - Y)    \n",
       "       ⎛         -0.6    ⎞               \n",
       "     Y⋅⎝Y⋅(1 - Y)     + 1⎠               \n",
       "Xₘ = ────────────────────────────────────\n",
       "                           0.6           \n",
       "                Y + (1 - Y)              "
      ]
     },
     "execution_count": 9,
     "metadata": {},
     "output_type": "execute_result"
    }
   ],
   "source": [
    "Xm = simplify(Xm.subs(N, G*Y)).subs({G:1})\n",
    "Eq(Symbol('X_m'), Xm)"
   ]
  },
  {
   "cell_type": "markdown",
   "metadata": {},
   "source": [
    "Plot $Y$ against $X_m$."
   ]
  },
  {
   "cell_type": "code",
   "execution_count": 10,
   "metadata": {
    "ExecuteTime": {
     "end_time": "2020-09-29T03:39:44.488781Z",
     "start_time": "2020-09-29T03:38:20.427812Z"
    }
   },
   "outputs": [
    {
     "name": "stderr",
     "output_type": "stream",
     "text": [
      "c:\\users\\dell\\desktop\\test_environment_python\\lib\\site-packages\\sympy\\plotting\\intervalmath\\lib_interval.py:30: RuntimeWarning: overflow encountered in exp\n",
      "  return interval(np.exp(x.start), np.exp(x.end), is_valid=x.is_valid)\n"
     ]
    },
    {
     "data": {
      "image/png": "[encoded data removed]",
      "text/plain": [
       "<Figure size 432x288 with 1 Axes>"
      ]
     },
     "metadata": {
      "needs_background": "light"
     },
     "output_type": "display_data"
    }
   ],
   "source": [
    "p2 = plot_implicit(Eq(Symbol('X_m'), Xm), (Symbol('X_m'), 0.0,3.0), (Y, 0.0, 2.0))"
   ]
  },
  {
   "cell_type": "code",
   "execution_count": null,
   "metadata": {},
   "outputs": [],
   "source": []
  }
 ],
 "metadata": {
  "hide_input": false,
  "kernelspec": {
   "display_name": "Python 3",
   "language": "python",
   "name": "python3"
  },
  "language_info": {
   "codemirror_mode": {
    "name": "ipython",
    "version": 3
   },
   "file_extension": ".py",
   "mimetype": "text/x-python",
   "name": "python",
   "nbconvert_exporter": "python",
   "pygments_lexer": "ipython3",
   "version": "3.8.5"
  },
  "toc": {
   "base_numbering": 1,
   "nav_menu": {},
   "number_sections": true,
   "sideBar": true,
   "skip_h1_title": false,
   "title_cell": "Table of Contents",
   "title_sidebar": "Contents",
   "toc_cell": false,
   "toc_position": {
    "height": "calc(100% - 180px)",
    "left": "10px",
    "top": "150px",
    "width": "273.188px"
   },
   "toc_section_display": true,
   "toc_window_display": false
  }
 },
 "nbformat": 4,
 "nbformat_minor": 4
}
