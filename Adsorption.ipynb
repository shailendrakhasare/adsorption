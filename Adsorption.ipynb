{
 "cells": [
  {
   "cell_type": "code",
   "execution_count": 1,
   "metadata": {
    "ExecuteTime": {
     "end_time": "2020-09-27T02:48:23.517956Z",
     "start_time": "2020-09-27T02:48:19.706601Z"
    }
   },
   "outputs": [],
   "source": [
    "%matplotlib notebook\n",
    "import matplotlib.pyplot as plt\n",
    "\n",
    "from sympy import (Symbol, Function, init_printing, log, \n",
    "                   exp, diff, simplify, Eq, Rational)\n",
    "from sympy.solvers import solve\n",
    "\n",
    "from IPython.display import Math\n",
    "\n",
    "init_printing(use_latex='mathjax')"
   ]
  },
  {
   "cell_type": "code",
   "execution_count": 2,
   "metadata": {
    "ExecuteTime": {
     "end_time": "2020-09-27T02:48:23.557952Z",
     "start_time": "2020-09-27T02:48:23.546950Z"
    }
   },
   "outputs": [],
   "source": [
    "# Define list of basic symbols.\n",
    "# Nf : Number of Fermi particles\n",
    "#  G : Number of cells\n",
    "#  X : Number of adsorped particles\n",
    "Nf, G, X = Symbol('N_f'), Symbol('G'), Symbol('X')\n",
    "\n",
    "# Y : Number of fermions per cell i.e. Nf/G\n",
    "# Y is not a symbol in true sense. It is \n",
    "# used to represent expression compactly.\n",
    "Y = Symbol('Y') "
   ]
  },
  {
   "cell_type": "markdown",
   "metadata": {},
   "source": [
    "### Notations\n",
    "* S  : Dimentionless Thermodynamic Entropy\n",
    "* N<sub>f</sub> : Number of Fermi particles\n",
    "*  G : Number of cells\n",
    "*  X : Number of adsorped particles\n",
    "*  Y : Number of fermions per cell i.e. N<sub>f</sub> / G"
   ]
  },
  {
   "cell_type": "code",
   "execution_count": 3,
   "metadata": {
    "ExecuteTime": {
     "end_time": "2020-09-27T02:48:23.750951Z",
     "start_time": "2020-09-27T02:48:23.564951Z"
    }
   },
   "outputs": [
    {
     "data": {
      "text/latex": [
       "$\\displaystyle S = - G \\log{\\left(G \\right)} + N_{f} \\log{\\left(N_{f} \\right)} + \\left(G - N_{f}\\right) \\log{\\left(G - N_{f} \\right)}$"
      ],
      "text/plain": [
       "S = -G⋅log(G) + N_f⋅log(N_f) + (G - N_f)⋅log(G - N_f)"
      ]
     },
     "execution_count": 3,
     "metadata": {},
     "output_type": "execute_result"
    }
   ],
   "source": [
    "# Define thermodynamic entropy S.\n",
    "An = G - Nf\n",
    "Bn = Nf\n",
    "Fn = An + Bn\n",
    "S = -(Fn*log(Fn)) + (An*log(An)) + (Bn*log(Bn))\n",
    "Eq(Symbol('S'), S)"
   ]
  },
  {
   "cell_type": "markdown",
   "metadata": {},
   "source": [
    "### Maximization of Entropy\n",
    "Differnetiate entropy S w.r.t number of fermions N<sub>f<sub>"
   ]
  },
  {
   "cell_type": "code",
   "execution_count": 4,
   "metadata": {
    "ExecuteTime": {
     "end_time": "2020-09-27T02:48:24.016955Z",
     "start_time": "2020-09-27T02:48:23.788950Z"
    }
   },
   "outputs": [
    {
     "data": {
      "text/latex": [
       "$\\displaystyle \\frac{\\partial S}{\\partial N_f} = \\log{\\left(N_{f} \\right)} - \\log{\\left(G - N_{f} \\right)}$"
      ],
      "text/plain": [
       " \\partial S                           \n",
       "──────────── = log(N_f) - log(G - N_f)\n",
       "\\partial N_f                          "
      ]
     },
     "execution_count": 4,
     "metadata": {},
     "output_type": "execute_result"
    }
   ],
   "source": [
    "# Differnetiate entropy S w.r.t number of fermions Nf.\n",
    "Sf = simplify(diff(S, Nf))\n",
    "Eq(Symbol('\\partial S')/Symbol('\\partial N_f'), Sf)"
   ]
  },
  {
   "cell_type": "markdown",
   "metadata": {},
   "source": [
    "Put $ \\frac{\\partial S}{\\partial N_f} = \\log X $ and solve for X."
   ]
  },
  {
   "cell_type": "code",
   "execution_count": 5,
   "metadata": {
    "ExecuteTime": {
     "end_time": "2020-09-27T02:48:24.596955Z",
     "start_time": "2020-09-27T02:48:24.021951Z"
    }
   },
   "outputs": [
    {
     "data": {
      "text/latex": [
       "$\\displaystyle X = \\frac{N_{f}}{G - N_{f}}$"
      ],
      "text/plain": [
       "      N_f  \n",
       "X = ───────\n",
       "    G - N_f"
      ]
     },
     "execution_count": 5,
     "metadata": {},
     "output_type": "execute_result"
    }
   ],
   "source": [
    "# Solve X in terms of G and Nf.\n",
    "Xf = solve(log(X)-Sf, X)[0]\n",
    "Eq(Symbol('X'), Xf)"
   ]
  },
  {
   "cell_type": "markdown",
   "metadata": {},
   "source": [
    "### Langmuir adsorption isotherm"
   ]
  },
  {
   "cell_type": "markdown",
   "metadata": {},
   "source": [
    "Put N<sub>f</sub> = G*Y and simplify."
   ]
  },
  {
   "cell_type": "code",
   "execution_count": 6,
   "metadata": {
    "ExecuteTime": {
     "end_time": "2020-09-27T02:48:24.800955Z",
     "start_time": "2020-09-27T02:48:24.604950Z"
    }
   },
   "outputs": [
    {
     "data": {
      "text/latex": [
       "$\\displaystyle X = - \\frac{Y}{Y - 1}$"
      ],
      "text/plain": [
       "     -Y  \n",
       "X = ─────\n",
       "    Y - 1"
      ]
     },
     "execution_count": 6,
     "metadata": {},
     "output_type": "execute_result"
    }
   ],
   "source": [
    "Xf = simplify(Xf.subs(Nf, G*Y))\n",
    "Eq(Symbol('X'), Xf)"
   ]
  },
  {
   "cell_type": "markdown",
   "metadata": {},
   "source": [
    "To get the expression for Langmuir adsorption isotherm, express Y in terms of X. "
   ]
  },
  {
   "cell_type": "code",
   "execution_count": 7,
   "metadata": {
    "ExecuteTime": {
     "end_time": "2020-09-27T02:48:24.982949Z",
     "start_time": "2020-09-27T02:48:24.806953Z"
    }
   },
   "outputs": [
    {
     "data": {
      "text/latex": [
       "$\\displaystyle Y = \\frac{X}{X + 1}$"
      ],
      "text/plain": [
       "      X  \n",
       "Y = ─────\n",
       "    X + 1"
      ]
     },
     "execution_count": 7,
     "metadata": {},
     "output_type": "execute_result"
    }
   ],
   "source": [
    "Yf = simplify(solve(Xf-X,Y)[0])\n",
    "Eq(Symbol('Y'), Yf)"
   ]
  },
  {
   "cell_type": "code",
   "execution_count": null,
   "metadata": {
    "ExecuteTime": {
     "end_time": "2020-09-27T03:20:16.839399Z",
     "start_time": "2020-09-27T03:20:16.829401Z"
    }
   },
   "outputs": [],
   "source": []
  },
  {
   "cell_type": "code",
   "execution_count": null,
   "metadata": {
    "ExecuteTime": {
     "end_time": "2020-09-27T03:41:50.430613Z",
     "start_time": "2020-09-27T03:41:50.307618Z"
    }
   },
   "outputs": [],
   "source": [
    "\"ooooooooooooooooooooooooooooooooooooooooooooooooooooooooo\";\n",
    "S2=-(A(N)+B(N))*ln(A(N)+B(N)) + A(N)*ln(A(N)) + B(N)*ln(B(N));\n",
    "\"ooooooooooooooooooooooooooooooooooooooooooooooooooooooooo\";\n",
    "\"Fermi Distribution-Scaling factor (1-cs)=a,for y axis\";\n",
    "A(N)=G-Nf-cs*G;B(N)=Nf;\n",
    "F(N)=A(N)+B(N);\n",
    "S2=-(A(N)+B(N))*ln(A(N)+B(N))+A(N)*ln(A(N))+B(N)*ln(B(N));\n",
    "Sf=simplify(diff(S2,Nf));\n",
    "Sf1=simplify(exp(Sf));\n",
    "Nf=G*Y;\n",
    "Xf=simplify(solve(ln(X)-Sf,X));\n",
    "Xf1=simplify(solve(X-exp(Sf),X));Eq(Symbol('Xsol'),Xf)\n",
    "\"ooooooooooooooooooooooooooooooooooooooooooooooooooooooooo\";\n",
    "\"Boson Distribution-Scaling factor (1-cs)=a,for y axis\";\n",
    "Nb,Nh = Symbol('N_b'), Symbol('Nh')\n",
    "A(N)=G\n",
    "B(N)=Nb\n",
    "F(N)=A(N)+B(N)\n",
    "S2=-(A(N)+B(N))*ln(A(N)+B(N))+A(N)*ln(A(N))+B(N)*ln(B(N))\n",
    "Sb=simplify(diff(S2,Nb))\n",
    "Nb=G*Y\n",
    "\"Sb=mtaylor(Sb,[G=1],4)\";\n",
    "Sb1=simplify(exp(Sb));\n",
    "Xb=simplify(solve(ln(X)-Sb,X));\n",
    "Xb1=simplify(solve(X-exp(Sb),X));\n",
    "\"ooooooooooooooooooooooooooooooooooooooooooooooooooooooooo\";\n",
    "\"Haldane Distribution-Weighted Mean AM(tc=1),HM(tc=-1),RMS(tc=2) Approach\";\n",
    "if(ts=6) then\n",
    "S2=-(A(Nh)+B(Nh))*ln(A(Nh)+B(Nh))+A(Nh)*ln(A(Nh))+B(Nh)*ln(B(Nh));\n",
    "Sh=simplify(diff(S2,Nh));\n",
    "Xh=simplify(exp(Sh));\n",
    "Xh1=subs([diff(A(Nh), Nh)=da,diff(B(Nh), Nh)=db],Xh);\n",
    "Xh1 =(A(Nh)/(A(Nh) + B(Nh)))^da*(B(Nh)/(A(Nh) + B(Nh)))^db;\n",
    "Xh1 =(1/(1+B(Nh)/A(Nh)))^da*(1/(A(Nh)/B(Nh)+1))^db;\n",
    "\n",
    "\"oooooooooooooooooo(Definitions=XXXXXXXXXXXXXXX)ooooooooooooooooooooooooooo\";\n",
    "\n",
    "Gm:=(G+alpha1*Nh)^(omega1)*(G+alpha2*Nh)^(omega2); \n",
    "Am:=(1+alpha1*Nh/G)^(omega1)*(1+alpha2*Nh/G)^(omega2);\n",
    "am:=(1+alpha1*Y)^(omega1)*(1+alpha2*Y)^(omega2); \n",
    "da0:=simplify(diff(G*Am, Nh));\n",
    "da0:=simplify(subs([Nh=G*Y],da0));db0:=1;\n",
    "Cm:=am/Y;\n",
    "Xhm:=(1+1/Cm)^(-da)*(1+Cm)^(-db);\n",
    "Xhm1:=simplify(Xhm); \n",
    "Xhm2:=(1+Y/am)^(-da)*(1+am/Y)^(-db);\n",
    "errm:=simplify(Xhm1-Xhm2);\n",
    "\"oooooooooooooooooooo(Definitions=+++++++++++++)ooooooooooooooooooooooo\";\n",
    "Fm:=(omega1*(1+alpha1*Nh/G)^beta+omega2*(1+alpha2*Nh/G)^beta)^(1/beta);\n",
    "fm:=(omega1*(1+alpha1*Y)^beta+omega2*(1+alpha2*Y)^beta)^(1/beta);\n",
    "daa:=simplify(diff(G*Fm,Nh)); \n",
    "da4:=simplify(subs([Nh=G*Y],daa));db4:=1;\n",
    "Cm:=fm/Y;\n",
    "Xha:=(1+1/Cm)^(-da)*(1+Cm)^(-db);\n",
    "Xha1:=simplify(Xha);\n",
    "Xha2:=(1+Y/fm)^(-da)*(1+fm/Y)^(-db);\n",
    "erra:=simplify(Xha1-Xha2);\n",
    " \n",
    "\"ooooooooooooooooooooooooooooooooooooooooooooooooooooooooo\";\n",
    "\"Multiplicative\";\n",
    "Gm:=(G+alpha1*Nh)^(omega1)*(G+alpha2*Nh)^(omega2); \n",
    "Am:=(1+alpha1*Nh/G)^(omega1)*(1+alpha2*Nh/G)^(omega2); \n",
    "A(Nh):=G*Am;\n",
    "B(Nh):=Nh^(omega1)*Nh^(omega2);\n",
    "Bm:=Nh;\n",
    "da19:=simplify(diff(G*Am, Nh));\n",
    "da20:=simplify(subs([Nh=G*Y],da19));\n",
    "for k to 1 do \n",
    "Xh20:=simplify(subs([A(Nh)=G*Am,B(Nh)=Bm],Xh1));\n",
    "Xh21:=simplify(subs([Nh=G*Y],Xh20));\n",
    "Xh20:=simplify(mtaylor(Xh21,[G=1],4));\n",
    "od:\n",
    "\"ooooo(Compact Solution for ts=6,(Multiplicative))ooo\";\n",
    "Cm:=Am*G/Bm;Cm:=subs([Nh=G*Y],Cm);\n",
    "Xh50:=(1+1/Cm)^(-da)*(1+Cm)^(-db);\n",
    "Xh20:=simplify(Xh50);\n",
    "da20:=simplify(mtaylor(da20,[G=1],4));\n",
    "db20:=diff(Bm, Nh);\n",
    "err2:=simplify(da20-da0);\n",
    "\"ooooooooooNo assumption for Cell (Gf=Gb=G)ooooooooooooooo\";\n",
    "alpha1:=Ls;alpha2:=(Ls-1);\n",
    "Fm:=(omega1*(1+alpha1*Nh/G)^beta+omega2*(1+alpha2*Nh/G)^beta)^(1/beta);\n",
    "fm:=(omega1*(1+alpha1*Y)^beta+omega2*(1+alpha2*Y)^beta)^(1/beta);\n",
    "daa:=simplify(diff(G*Fm,Nh)); \n",
    "da4:=simplify(subs([Nh=G*Y],daa));db4:=1;\n",
    "Cm:=fm/Y;\n",
    "Xha:=(1+1/Cm)^(-da)*(1+Cm)^(-db);\n",
    "Xha1:=simplify(Xha);\n",
    "Xh2:=(1+Y/fm)^(-da)*(1+fm/Y)^(-db);\n",
    "erra:=simplify(Xha1-Xh2);\n",
    " \n",
    "fm1:=omega1*(1+alpha1*Y)^Ts+omega2*(1+alpha2*Y)^Ts;am1:=diff(fm1^(1/Ts),Y);\n",
    "Fm1:=(omega1*(1+alpha1*Nh/G)^Ts+omega2*(1+alpha2*Nh/G)^Ts)^(1/Ts);\n",
    "Am:=G*Fm1;\n",
    "Bm:=Nh*(omega1+omega2)^(1/Ts);\n",
    "\"ooooooooooGeneral Solution for ts=6,(dec=1/2/3,tc=1/2/3),oooooo\";\n",
    "SW:=-A*ln(A*Y-cs+1)+(A-1)*ln(A*Y-cs-Y+1)+ln(Y);\n",
    "XW:=simplify(exp(SW));\n",
    "A:=1-mu;\n",
    "X:=exp(beta*(E0-E));\n",
    "Yh:=solve(X-Xh,Y);\n",
    "\"oooooooooooooo(Simplification Expression)oooooooooooooooooooooooo\";\n",
    "Xh3:=(1+Y/am)^(-da)*(1+am/Y)^(-db);\n",
    "Xh2:=(1+Y/fm)^(-da)*(1+fm/Y)^(-db); \n",
    "\"ooooooooooooooooooooooooooooooooooooooooooooooooooooooooo\";\n",
    "alpha:=Ls;beta:=Ts;\n",
    "omega:=A;omega1:=omega;omega2:=(1-omega);\n",
    "alpha1:=alpha;alpha2:=(alpha-1);\n",
    "\"ooooooooooooooooooooooooooooooooooooooooooooooooooooooooo\";\n",
    "tc:=Ts;mu0:=1/2;\n",
    "\"Special case of Haldane Distribution\";\n",
    "X(Ha):=Xh2;\n",
    "X(Hm):=Xh3;\n",
    "\"ooooooooooooooooooooooooooooooooooooooooooooooooooooooooo\";\n",
    "mu:=0;da:=da4;db:=db4;Xa:=simplify(Xh2);\n",
    "mu:=mu0;da:=da4;db:=db4;Xc:=simplify(Xh2);\n",
    "mu:=1;da:=da4;db:=db4;Xb:=simplify(Xh2);\n",
    "\"ooooooooooooooooooooooooooooooooooooooooooooooooooooooooo\";\n",
    "\"Conjugate pair for +++++\";\n",
    "mu:=mu0-zeta;da:=da4;db:=db4;Fun2:=Xh2;\n",
    "\"Conjugate pair for XXXXXXX\";\n",
    "mu:=mu0-zeta;da:=da0;db:=db0;Fun3:=Xh3;\n",
    "\"ooooooooooooooooooooooooooooooooooooooooooooooooooooooooo\";\n",
    "with(plots);\n",
    "gx:=2;gy:=3;\n",
    "if(Me=1) then \n",
    "mu:=mu0-zeta;da:=da4;db:=db4;Y:=y;\n",
    "Fu4:=Xh2;\n",
    "end if;\n",
    "if(Me=2) then \n",
    "mu:=mu0-zeta;da:=da0;db:=db0;Y:=y;\n",
    "Fu4:=Xh3;\n",
    "end if;\n",
    "\"ooooooooooooooooooooooooooooooooooooooooooooooooooooooooo\";\n",
    "zeta:=-1;T1:=simplify(Fu4);\n",
    "zeta:=-3/4;T2:=simplify(Fu4);\n",
    "zeta:=-1/2;T3:=simplify(Fu4);\n",
    "zeta:=0;T4:=simplify(Fu4);\n",
    "zeta:=1/2;T5:=simplify(Fu4);\n",
    "zeta:=3/4;T6:=simplify(Fu4);\n",
    "zeta:=1;T7:=simplify(Fu4);\n",
    "\"ooooooooooooooooooooooooooooooooooooooooooooooooooooooooo\";\n",
    "for k to 1 do  \n",
    "LK70:=implicitplot(exp(gz*(1-x))-T1=0,y = 1/100 .. gy, x = 0 .. gx,grid=[120,120],style=point,symbol=diamond,color=red,legend=[\"x-T1=0\"],labels=[C(x),\"A(y)\"],labeldirections=[horizontal, vertical]);\n",
    "LK71:=implicitplot(x-y^2=0,x = 1/100 .. gx,y = 1/100 .. gy,grid=[120,120],style=point,symbol=diamond,color=black,legend=[\"x-y^2=0\"],labels=[C(x),\"A(y)\"],labeldirections=[horizontal, vertical]);\n",
    "LK72:=implicitplot(exp(gz*(1-x))-T2=0,x = 1/100 .. gx,y = 1/100 .. gy,grid=[120,120],style=point,symbol=circle,color=red,legend=[\"x-T2=0\"],labels=[\"A(y)\",C(x)],labeldirections=[horizontal, vertical]);\n",
    "LK73:=implicitplot(exp(gz*(1-x))-T3=0,x = 1/100 .. gx,y = 1/100 .. gy,grid=[120,120],style=point,symbol=diamond,color=red,legend=[\"x-T3=0\"],labels=[\"A(y)\",C(x)],labeldirections=[horizontal, vertical]);\n",
    "LK74:=implicitplot(exp(gz*(1-x))-T4=0,x = 1/100 .. gx,y = 1/100 .. gy,grid=[120,120],style=point,symbol=circle,color=green,legend=[\"x-T4=0\"],labels=[C(x),\"A(y)\"],labeldirections=[horizontal, vertical]);\n",
    "LK75:=implicitplot(exp(gz*(1-x))-T5=0,x = 1/100 .. gx,y = 1/100 .. gy,grid=[120,120],style=point,symbol=diamond,color=blue,legend=[\"x-T5=0\"],labels=[C(x),\"A(y)\"],labeldirections=[horizontal, vertical]);\n",
    "LK76:=implicitplot(exp(gz*(1-x))-T6=0,x = 1/100 .. gx,y = 1/100 .. gy,grid=[120,120],style=point,symbol=diamond,color=blue,legend=[\"x-T6=0\"],labels=[C(x),\"A(y)\"],labeldirections=[horizontal, vertical]);\n",
    "LK77:=implicitplot(exp(gz*(1-x))-T7=0,x = 1/100 .. gx,y = 1/100 .. gy,grid=[120,120],style=point,symbol=diamond,color=blue,legend=[\"x-T7=0\"],labels=[C(x),\"A(y)\"],labeldirections=[horizontal, vertical]);\n",
    "od:\n",
    "\"ooooooooooooooooooooooooooooooooooooooooooooooooooooooooo\";\n",
    "\"x=fun(y)\";\n",
    "plots[display]({LK70,LK77,LK74});\n",
    "plots[display]({LK72,LK76,LK74});\n",
    "plots[display]({LK73,LK75,LK74});\n",
    "end if;\n",
    "\"ooooooooooooooooooooooooooooooooooooooooooooooooooooooooo\";\n"
   ]
  },
  {
   "cell_type": "code",
   "execution_count": null,
   "metadata": {},
   "outputs": [],
   "source": []
  }
 ],
 "metadata": {
  "hide_input": false,
  "kernelspec": {
   "display_name": "Python 3",
   "language": "python",
   "name": "python3"
  },
  "language_info": {
   "codemirror_mode": {
    "name": "ipython",
    "version": 3
   },
   "file_extension": ".py",
   "mimetype": "text/x-python",
   "name": "python",
   "nbconvert_exporter": "python",
   "pygments_lexer": "ipython3",
   "version": "3.8.5"
  },
  "toc": {
   "base_numbering": 1,
   "nav_menu": {},
   "number_sections": true,
   "sideBar": true,
   "skip_h1_title": false,
   "title_cell": "Table of Contents",
   "title_sidebar": "Contents",
   "toc_cell": false,
   "toc_position": {},
   "toc_section_display": true,
   "toc_window_display": false
  }
 },
 "nbformat": 4,
 "nbformat_minor": 4
}
